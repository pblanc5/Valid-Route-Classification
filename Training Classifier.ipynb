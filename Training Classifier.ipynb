{
 "cells": [
  {
   "cell_type": "markdown",
   "metadata": {},
   "source": [
    "# Classifying Valid Routes\n",
    "<p>This document is a testing ground for various classifiers in regards to classifying output from the \"show ip route [ipv6 address]\" command from a Cisco router. Each route will be classified as good or bad. Testing data is generated from a template parsed by the Jinja2 library.</p>\n",
    "\n",
    "<p>This project was inspired by sentdex's [Natural Language Processing tutorial series on Youtube] (https://www.youtube.com/watch?v=FLZvOKSCkxY&list=PLQVvvaa0QuDf2JswnfiGkliBInZnIC4HL).</p>"
   ]
  },
  {
   "cell_type": "code",
   "execution_count": 1,
   "metadata": {},
   "outputs": [
    {
     "name": "stdout",
     "output_type": "stream",
     "text": [
      "Documents Len: 4003\n",
      "Feature Set Len: 4003\n",
      "Train Set Len: 1000\n",
      "Test Set Len: 3003\n"
     ]
    }
   ],
   "source": [
    "import nltk\n",
    "import random\n",
    "import pickle\n",
    "\n",
    "\n",
    "good_data = open('Datasets/good_routes', 'r').read()\n",
    "bad_data1 = open('Datasets/bad_routes1', 'r').read()\n",
    "bad_data2 = open('Datasets/bad_routes2', 'r').read()\n",
    "\n",
    "documents = []\n",
    "\n",
    "for r in good_data.split('\\n'):\n",
    "    documents.append((r, 'good'))\n",
    "    \n",
    "for r in bad_data1.split('\\n'):\n",
    "    documents.append((r, 'bad'))\n",
    "    \n",
    "for r in bad_data2.split('\\n'):\n",
    "    documents.append((r, 'bad'))\n",
    "\n",
    "good_words = nltk.word_tokenize(good_data)\n",
    "bad_words1 = nltk.word_tokenize(bad_data1)\n",
    "bad_words2 = nltk.word_tokenize(bad_data2)\n",
    "\n",
    "all_words = []\n",
    "\n",
    "for w in good_words:\n",
    "    all_words.append(w.lower())\n",
    "    \n",
    "for w in bad_words1:\n",
    "    all_words.append(w.lower())\n",
    "    \n",
    "for w in bad_words2:\n",
    "    all_words.append(w.lower())\n",
    "\n",
    "\n",
    "all_words = nltk.FreqDist(all_words)\n",
    "word_features = list(all_words.keys())\n",
    "\n",
    "s_word_features = open(\"Util/word_features.pickle\", \"wb\")\n",
    "pickle.dump(word_features, s_word_features)\n",
    "\n",
    "def find_features(document):\n",
    "    words = nltk.word_tokenize(document)\n",
    "    features = {}\n",
    "    for w in word_features:\n",
    "        features[w] = (w in words)\n",
    "    return features\n",
    "\n",
    "featuresets = [(find_features(route), tag) for (route, tag) in documents]\n",
    "random.shuffle(featuresets)\n",
    "train_set, test_set = featuresets[:1000], featuresets[1000:]\n",
    "\n",
    "print(\"Documents Len:\", len(documents))\n",
    "print(\"Feature Set Len:\", len(featuresets))\n",
    "print(\"Train Set Len:\", len(train_set))\n",
    "print(\"Test Set Len:\", len(test_set))\n",
    "\n",
    "\n"
   ]
  },
  {
   "cell_type": "markdown",
   "metadata": {},
   "source": [
    "## Training Stochastic Gradient Descent Classifier"
   ]
  },
  {
   "cell_type": "code",
   "execution_count": 2,
   "metadata": {},
   "outputs": [
    {
     "name": "stdout",
     "output_type": "stream",
     "text": [
      "SGD Accuracy: 99.93339993339994\n"
     ]
    }
   ],
   "source": [
    "import numpy\n",
    "from nltk.classify import SklearnClassifier\n",
    "from sklearn.linear_model import SGDClassifier\n",
    "\n",
    "SGD_classifier = SklearnClassifier(SGDClassifier())\n",
    "SGD_classifier.train(train_set)\n",
    "print(\"SGD Accuracy:\", nltk.classify.accuracy(SGD_classifier, test_set) * 100)\n",
    "\n",
    "# Saving classifier for later use\n",
    "save_SGD = open('Classifiers/SGD_classifier.pickle', 'wb')\n",
    "pickle.dump(SGD_classifier, save_SGD)\n",
    "save_SGD.close()"
   ]
  },
  {
   "cell_type": "markdown",
   "metadata": {},
   "source": [
    "## Visualization"
   ]
  },
  {
   "cell_type": "code",
   "execution_count": 3,
   "metadata": {},
   "outputs": [
    {
     "name": "stdout",
     "output_type": "stream",
     "text": [
      "     |      g        |\n",
      "     |      o      b |\n",
      "     |      o      a |\n",
      "     |      d      d |\n",
      "-----+---------------+\n",
      "good | <50.9%>     . |\n",
      " bad |   0.1% <49.1%>|\n",
      "-----+---------------+\n",
      "(row = reference; col = test)\n",
      "\n"
     ]
    },
    {
     "data": {
      "image/png": "[encoded data removed]",
      "text/plain": [
       "<matplotlib.figure.Figure at 0x7f1d5cde6be0>"
      ]
     },
     "metadata": {},
     "output_type": "display_data"
    }
   ],
   "source": [
    "from sklearn.metrics import confusion_matrix\n",
    "import matplotlib.pyplot as plt\n",
    "import itertools\n",
    "import numpy as np\n",
    "\n",
    "ref = [tag for (route, tag) in test_set]\n",
    "test = [SGD_classifier.classify(route) for (route, tag) in test_set]\n",
    "\n",
    "cm = nltk.ConfusionMatrix(ref, test)\n",
    "print(cm.pretty_format(sort_by_count=True, show_percents=True, truncate=9))\n",
    "\n",
    "sklcm = confusion_matrix(ref, test)\n",
    "np.set_printoptions(precision=2)\n",
    "\n",
    "def plot_cm(cm, classes, title, cmap=plt.cm.Blues):\n",
    "    plt.imshow(cm, interpolation='nearest', cmap=cmap)\n",
    "    plt.title(title)\n",
    "    plt.colorbar()\n",
    "    tick_marks = np.arange(len(classes))\n",
    "    plt.xticks(tick_marks, classes, rotation=45)\n",
    "    plt.yticks(tick_marks, classes)\n",
    "    plt.tight_layout()\n",
    "    plt.ylabel('True Class')\n",
    "    plt.xlabel('Predicted Class')\n",
    "    \n",
    "plt.figure()\n",
    "plot_cm(sklcm, classes=['good', 'bad'], title='SGD Classifier')\n",
    "plt.show()"
   ]
  }
 ],
 "metadata": {
  "kernelspec": {
   "display_name": "Python 3",
   "language": "python",
   "name": "python3"
  },
  "language_info": {
   "codemirror_mode": {
    "name": "ipython",
    "version": 3
   },
   "file_extension": ".py",
   "mimetype": "text/x-python",
   "name": "python",
   "nbconvert_exporter": "python",
   "pygments_lexer": "ipython3",
   "version": "3.6.1"
  }
 },
 "nbformat": 4,
 "nbformat_minor": 2
}
