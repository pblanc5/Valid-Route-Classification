{
 "cells": [
  {
   "cell_type": "markdown",
   "metadata": {},
   "source": [
    "# Classifying Valid Routes\n",
    "<p>This document is a testing ground for various classifiers in regards to classifying output from the \"show ip route ospf <num>\" command from a Cisco router. Each route will be classified as good or bad. Testing data is generated from a template parsed by the Jinja2 library.</p>"
   ]
  },
  {
   "cell_type": "code",
   "execution_count": null,
   "metadata": {
    "collapsed": true
   },
   "outputs": [],
   "source": [
    "from gen import gen\n",
    "import nltk\n",
    "import random\n",
    "\n",
    "good_data = open('../training/good_routes', 'r').read()\n",
    "bad_data1 = open('../training/bad_routes1', 'r').read()\n",
    "bad_data2 = open('../training/bad_routes2', 'r').read()\n",
    "\n",
    "documents = []\n",
    "\n",
    "for r in good_data.split('\\n'):\n",
    "    documents.append((r, 'good'))\n",
    "    \n",
    "for r in bad_data1.split('\\n'):\n",
    "    documents.append((r, 'bad'))\n",
    "    \n",
    "for r in bad_data2.split('\\n'):\n",
    "    documents.append((r, 'bad'))\n",
    "\n",
    "good_words = nltk.word_tokenize(good_data)\n",
    "bad_words1 = nltk.word_tokenize(bad_data1)\n",
    "bad_words2 = nltk.word_tokenize(bad_data2)\n",
    "\n",
    "all_words = []\n",
    "\n",
    "for w in good_words:\n",
    "    all_words.append(w.lower())\n",
    "    \n",
    "for w in bad_words1:\n",
    "    all_words.append(w.lower())\n",
    "    \n",
    "for w in bad_words2:\n",
    "    all_words.append(w.lower())\n",
    "\n",
    "\n",
    "all_words = nltk.FreqDist(all_words)\n",
    "word_features = list(all_words.keys())\n",
    "\n",
    "def find_features(document):\n",
    "    words = nltk.word_tokenize(document)\n",
    "    features = {}\n",
    "    for w in word_features:\n",
    "        features[w] = (w in words)\n",
    "    return features\n",
    "\n",
    "featuresets = [(find_features(rev), category) for (rev, category) in documents]\n",
    "random.shuffle(featuresets)\n",
    "train_set, test_set = featuresets[:3500], featuresets[3500:4000]\n",
    "\n",
    "\n"
   ]
  },
  {
   "cell_type": "markdown",
   "metadata": {},
   "source": [
    "## NLTK Naive Bayes Classifier"
   ]
  },
  {
   "cell_type": "code",
   "execution_count": null,
   "metadata": {
    "collapsed": true
   },
   "outputs": [],
   "source": [
    "classifier = nltk.NaiveBayesClassifier.train(train_set)\n",
    "print(\"Naive Bayes Accuracy:\", nltk.classify.accuracy(classifier, test_set) * 100)\n",
    "classifier.show_most_informative_features(25)"
   ]
  },
  {
   "cell_type": "markdown",
   "metadata": {},
   "source": [
    "## SKLearn Multinomial Naive Bayes Classifier "
   ]
  },
  {
   "cell_type": "code",
   "execution_count": null,
   "metadata": {
    "collapsed": true
   },
   "outputs": [],
   "source": [
    "import numpy\n",
    "import scipy\n",
    "from nltk.classify import SklearnClassifier\n",
    "from sklearn.naive_bayes import MultinomialNB, GaussianNB, BernoulliNB\n",
    "\n",
    "MNB_classifier = SklearnClassifier(MultinomialNB())\n",
    "MNB_classifier.train(train_set)\n",
    "print(\"MNB Accuracy:\", nltk.classify.accuracy(MNB_classifier, test_set) * 100)"
   ]
  },
  {
   "cell_type": "markdown",
   "metadata": {},
   "source": [
    "## SKLearn Gaussian Naive Bayes Classifier "
   ]
  },
  {
   "cell_type": "code",
   "execution_count": null,
   "metadata": {
    "collapsed": true
   },
   "outputs": [],
   "source": [
    "#GNB_classifier = SklearnClassifier(GaussianNB())\n",
    "#GNB_classifier.train(train_set)\n",
    "#print(\"GNB Accuracy:\", nltk.classify.accuracy(GNB_classifier, test_set) * 100)"
   ]
  },
  {
   "cell_type": "markdown",
   "metadata": {},
   "source": [
    "## SKLearn Bernoulli Naive Bayes Classifier "
   ]
  },
  {
   "cell_type": "code",
   "execution_count": null,
   "metadata": {
    "collapsed": true
   },
   "outputs": [],
   "source": [
    "BNB_classifier = SklearnClassifier(BernoulliNB())\n",
    "BNB_classifier.train(train_set)\n",
    "print(\"BNB Accuracy:\", nltk.classify.accuracy(BNB_classifier, test_set) * 100)"
   ]
  },
  {
   "cell_type": "markdown",
   "metadata": {},
   "source": [
    "## SKLearn Logistic Regression Classifier"
   ]
  },
  {
   "cell_type": "code",
   "execution_count": null,
   "metadata": {
    "collapsed": true
   },
   "outputs": [],
   "source": [
    "from sklearn.linear_model import LogisticRegression, SGDClassifier\n",
    "\n",
    "LR_classifier = SklearnClassifier(LogisticRegression())\n",
    "LR_classifier.train(train_set)\n",
    "print(\"LR Accuracy:\", nltk.classify.accuracy(LR_classifier, test_set) * 100)"
   ]
  },
  {
   "cell_type": "markdown",
   "metadata": {},
   "source": [
    "## SKLearn Stochastic Gradient Descent Classifier"
   ]
  },
  {
   "cell_type": "code",
   "execution_count": null,
   "metadata": {
    "collapsed": true
   },
   "outputs": [],
   "source": [
    "SGD_classifier = SklearnClassifier(SGDClassifier())\n",
    "SGD_classifier.train(train_set)\n",
    "print(\"SGD Accuracy:\", nltk.classify.accuracy(SGD_classifier, test_set) * 100)"
   ]
  },
  {
   "cell_type": "markdown",
   "metadata": {},
   "source": [
    "## SKLearn Support Vector Classifier"
   ]
  },
  {
   "cell_type": "code",
   "execution_count": null,
   "metadata": {
    "collapsed": true
   },
   "outputs": [],
   "source": [
    "from sklearn.svm import SVC, LinearSVC, NuSVC\n",
    "\n",
    "#SVC_classifier = SklearnClassifier(SVC())\n",
    "#SVC_classifier.train(train_set)\n",
    "#print(\"SVC Accuracy:\", nltk.classify.accuracy(SVC_classifier, test_set) * 100)"
   ]
  },
  {
   "cell_type": "markdown",
   "metadata": {},
   "source": [
    "## SKLearn Linear Support Vector Classifier"
   ]
  },
  {
   "cell_type": "code",
   "execution_count": null,
   "metadata": {
    "collapsed": true
   },
   "outputs": [],
   "source": [
    "LSVC_classifier = SklearnClassifier(LinearSVC())\n",
    "LSVC_classifier.train(train_set)\n",
    "print(\"LSVC Accuracy:\", nltk.classify.accuracy(LSVC_classifier, test_set) * 100)"
   ]
  },
  {
   "cell_type": "markdown",
   "metadata": {},
   "source": [
    "## SKLearn Nu Support Vector Classifier"
   ]
  },
  {
   "cell_type": "code",
   "execution_count": null,
   "metadata": {
    "collapsed": true,
    "scrolled": true
   },
   "outputs": [],
   "source": [
    "NuSVC_classifier = SklearnClassifier(NuSVC())\n",
    "NuSVC_classifier.train(train_set)\n",
    "print(\"NuSVC Accuracy:\", nltk.classify.accuracy(NuSVC_classifier, test_set) * 100)"
   ]
  },
  {
   "cell_type": "markdown",
   "metadata": {},
   "source": [
    "## Classifier Voting System"
   ]
  },
  {
   "cell_type": "code",
   "execution_count": null,
   "metadata": {
    "collapsed": true
   },
   "outputs": [],
   "source": [
    "from nltk.classify import ClassifierI\n",
    "from statistics import mode\n",
    "\n",
    "class VoteClassifier(ClassifierI):\n",
    "    \n",
    "    def __init__(self, *classifiers):\n",
    "        self._classifiers = classifiers\n",
    "        \n",
    "    def classify(self, features):\n",
    "        votes = []\n",
    "        for classifier in self._classifiers:\n",
    "            vote = classifier.classify(features)\n",
    "            votes.append(vote)\n",
    "        return mode(votes)\n",
    "    \n",
    "    def confidence(self, features):\n",
    "        votes = []\n",
    "        for classifier in self._classifiers:\n",
    "            vote = classifier.classify(features)\n",
    "            votes.append(vote)\n",
    "            \n",
    "        choice_votes = votes.count(mode(votes))\n",
    "        conf = choice_votes / len(votes)\n",
    "        return conf\n",
    "    \n",
    "    \n",
    "V_classifier = VoteClassifier(classifier, MNB_classifier, BNB_classifier, LR_classifier, \n",
    "                              SGD_classifier,LSVC_classifier, NuSVC_classifier)\n",
    "print(\"Vote Accuracy:\", nltk.classify.accuracy(V_classifier, test_set) * 100)\n",
    "\n",
    "for i in range(0,100):\n",
    "    print(\"Classification:\", V_classifier.classify(test_set[i][0]), \n",
    "          \"Confidence:\", \"{:5.2f}\".format(V_classifier.confidence(test_set[i][0]) * 100), \n",
    "          \"Actual Class:\", test_set[i][1])"
   ]
  }
 ],
 "metadata": {
  "kernelspec": {
   "display_name": "Python 3",
   "language": "python",
   "name": "python3"
  },
  "language_info": {
   "codemirror_mode": {
    "name": "ipython",
    "version": 3
   },
   "file_extension": ".py",
   "mimetype": "text/x-python",
   "name": "python",
   "nbconvert_exporter": "python",
   "pygments_lexer": "ipython3",
   "version": "3.6.1"
  }
 },
 "nbformat": 4,
 "nbformat_minor": 2
}
